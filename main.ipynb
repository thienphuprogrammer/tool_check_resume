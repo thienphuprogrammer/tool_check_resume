{
 "cells": [
  {
   "cell_type": "code",
   "execution_count": 10,
   "outputs": [],
   "source": [
    "import os\n",
    "\n",
    "from google.auth.transport.requests import Request\n",
    "from google.oauth2.credentials import Credentials\n",
    "from google_auth_oauthlib.flow import InstalledAppFlow\n",
    "from googleapiclient.discovery import build\n",
    "from googleapiclient.errors import HttpError\n",
    "import gspread"
   ],
   "metadata": {
    "collapsed": false,
    "ExecuteTime": {
     "end_time": "2023-11-21T09:01:21.283402100Z",
     "start_time": "2023-11-21T09:01:21.255251300Z"
    }
   },
   "id": "6e4b8e81f1c014d1"
  },
  {
   "cell_type": "code",
   "execution_count": 11,
   "outputs": [],
   "source": [
    "SCOPES = ['https://www.googleapis.com/auth/spreadsheets.readonly']\n",
    "SPREADSHEET_ID = '1OFkQ1-UKyvuozYhEEBH3prhpzNuXud08TwHIMsA4jY0'"
   ],
   "metadata": {
    "collapsed": false,
    "ExecuteTime": {
     "end_time": "2023-11-21T09:01:21.348623300Z",
     "start_time": "2023-11-21T09:01:21.268404900Z"
    }
   },
   "id": "cee838467b01dd95"
  },
  {
   "cell_type": "code",
   "execution_count": 12,
   "outputs": [],
   "source": [
    "credentials = None\n",
    "if os.path.exists('token.json'):\n",
    "    credentials = Credentials.from_authorized_user_file('token.json', SCOPES)\n",
    "if not credentials or not credentials.valid:\n",
    "    if credentials and credentials.expired and credentials.refresh_token:\n",
    "        credentials.refresh(Request())\n",
    "    else:\n",
    "        flow = InstalledAppFlow.from_client_secrets_file('credentials.json', SCOPES)\n",
    "        credentials = flow.run_local_server(port=0)\n",
    "    with open('token.json', 'w') as token:\n",
    "        token.write(credentials.to_json())"
   ],
   "metadata": {
    "collapsed": false,
    "ExecuteTime": {
     "end_time": "2023-11-21T09:01:21.350645700Z",
     "start_time": "2023-11-21T09:01:21.290085300Z"
    }
   },
   "id": "a2e12440b77d511b"
  },
  {
   "cell_type": "code",
   "execution_count": 26,
   "outputs": [
    {
     "name": "stdout",
     "output_type": "stream",
     "text": [
      "Yes\n",
      "No\n",
      "No\n",
      "No\n",
      "No\n",
      "No\n",
      "No\n",
      "No\n",
      "No\n",
      "No\n",
      "No\n",
      "No\n",
      "No\n"
     ]
    }
   ],
   "source": [
    "def check_update():\n",
    "    \"\"\"Checks out what's new in the spreadsheet\"\"\"\n",
    "    try:\n",
    "        service = build('Sheets', 'v4', credentials=credentials) \n",
    "        sheet = service.spreadsheets()\n",
    "        i = 2\n",
    "        #get size of the sheet\n",
    "        number_of_rows = \n",
    "        while True:\n",
    "            result = sheet.values().get(spreadsheetId=SPREADSHEET_ID, range=f'Thien Phu!A{i}:L{i}').execute()\n",
    "            values = result.get('values')\n",
    "            if not values:\n",
    "                break\n",
    "            else:\n",
    "                    print(values[0][8])\n",
    "            i += 1\n",
    "    except HttpError as err:\n",
    "        print(err)\n",
    "        \n",
    "check_update()"
   ],
   "metadata": {
    "collapsed": false,
    "ExecuteTime": {
     "end_time": "2023-11-21T09:31:34.290674700Z",
     "start_time": "2023-11-21T09:31:27.848821200Z"
    }
   },
   "id": "e81aca4956900f0"
  },
  {
   "cell_type": "code",
   "execution_count": null,
   "outputs": [],
   "source": [
    "def onEdit():\n",
    "    "
   ],
   "metadata": {
    "collapsed": false
   },
   "id": "840c357b3a367cff"
  },
  {
   "cell_type": "code",
   "execution_count": 13,
   "outputs": [
    {
     "name": "stdout",
     "output_type": "stream",
     "text": [
      "['1']\n",
      "['2']\n",
      "['3']\n",
      "['4']\n",
      "['5']\n"
     ]
    }
   ],
   "source": [
    "def er():\n",
    "    try:\n",
    "        service = build('Sheets', 'v4', credentials=credentials) \n",
    "        sheet = service.spreadsheets()\n",
    "        result = sheet.values().get(spreadsheetId=SPREADSHEET_ID, range='Passed!A1:A5').execute()\n",
    "        values = result.get('values', [])\n",
    "        for row in values:\n",
    "            print(row)\n",
    "    except HttpError as err:\n",
    "        print(err)"
   ],
   "metadata": {
    "collapsed": false,
    "ExecuteTime": {
     "start_time": "2023-11-21T09:01:21.306977Z"
    }
   },
   "id": "72b2599dd6efa070"
  }
 ],
 "metadata": {
  "kernelspec": {
   "display_name": "Python 3",
   "language": "python",
   "name": "python3"
  },
  "language_info": {
   "codemirror_mode": {
    "name": "ipython",
    "version": 2
   },
   "file_extension": ".py",
   "mimetype": "text/x-python",
   "name": "python",
   "nbconvert_exporter": "python",
   "pygments_lexer": "ipython2",
   "version": "2.7.6"
  }
 },
 "nbformat": 4,
 "nbformat_minor": 5
}
